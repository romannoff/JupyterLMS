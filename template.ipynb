{
 "cells": [
  {
   "cell_type": "code",
   "execution_count": 1,
   "id": "7a5adcf3",
   "metadata": {},
   "outputs": [],
   "source": [
    "import time\r\n",
    "def my_fun(x, y):\r\n",
    "    time.sleep(2/3)\r\n",
    "    return x + y"
   ]
  },
  {
   "cell_type": "code",
   "execution_count": null,
   "id": "9248dc92",
   "metadata": {},
   "outputs": [],
   "source": [
    "import tracemalloc \n",
    "tracemalloc.start()\n",
    "assert my_fun(1, 2) == 3, f\"Test 1 failed. Expected: 3, but got {my_fun(1, 2)}\"\n",
    "assert my_fun(-1, 1) == 0, f\"Test 2 failed. Expected: 0, but got {my_fun(-1, 1)}\"\n",
    "assert my_fun(0, 0) == 0, f\"Test 3 failed. Expected: 0, but got {my_fun(0, 0)}\"\n",
    "print(\"All tests passed!\")\n",
    "_, peak = tracemalloc.get_traced_memory()\n",
    "tracemalloc.stop()\n",
    "print(\"#%423#\", peak / 1024)"
   ]
  },
  {
   "cell_type": "code",
   "execution_count": null,
   "id": "16b3a67b",
   "metadata": {},
   "outputs": [],
   "source": [
    "# Ограничение по времени на выполнение всех тестов (секунд)\n",
    "timeout = 10\n",
    "\n",
    "# Ограничение по памяти для всех тестов (KB)\n",
    "memory_max = 100\n"
   ]
  }
 ],
 "metadata": {
  "kernelspec": {
   "display_name": "Python 3 (ipykernel)",
   "language": "python",
   "name": "python3"
  },
  "language_info": {
   "codemirror_mode": {
    "name": "ipython",
    "version": 3
   },
   "file_extension": ".py",
   "mimetype": "text/x-python",
   "name": "python",
   "nbconvert_exporter": "python",
   "pygments_lexer": "ipython3",
   "version": "3.10.4"
  }
 },
 "nbformat": 4,
 "nbformat_minor": 5
}
