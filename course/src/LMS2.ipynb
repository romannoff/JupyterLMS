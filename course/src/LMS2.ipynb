{
 "cells": [
  {
   "cell_type": "markdown",
   "id": "e4eb657a-a1c8-4213-a5a4-c3a544576fc9",
   "metadata": {},
   "source": [
    "# Работа с Pandas"
   ]
  },
  {
   "cell_type": "code",
   "execution_count": null,
   "id": "b4a1b1ae-ffbd-4658-94e5-a19207ef50c7",
   "metadata": {},
   "outputs": [],
   "source": [
    "!pip install numpy\n",
    "!pip install pandas"
   ]
  },
  {
   "cell_type": "markdown",
   "id": "2a6b9922-d6d3-4b23-a3da-65a6b76eb0b4",
   "metadata": {},
   "source": [
    "## Поиск перцентилей\n",
    "Найдите перцентили уровней 0, 25, 50, 75, 100 для набора ser. Для прохождения задания необходимо, чтобы переменная result содержала список значений перцентилей"
   ]
  },
  {
   "cell_type": "code",
   "execution_count": null,
   "id": "c54aebd0-d427-4cf8-ae22-2c2a3433f4fa",
   "metadata": {},
   "outputs": [],
   "source": [
    "import numpy as np\n",
    "import pandas as pd\n",
    "\n",
    "state = np.random.RandomState(100)\n",
    "ser = pd.Series(state.normal(10, 5, 25))\n",
    "\n",
    "#HIDDEN\n",
    "result = np.percentile(ser, q=[0, 25, 50, 75, 100])\n",
    "#HIDDEN\n",
    "\n",
    "result = ..."
   ]
  },
  {
   "cell_type": "code",
   "execution_count": null,
   "id": "aa66dc06-b47b-4539-b95d-937a2327683c",
   "metadata": {},
   "outputs": [],
   "source": [
    "#HIDDEN\n",
    "assert (result == np.array(np.percentile(ser, q=[0, 25, 50, 75, 100]))).all(), f\"Test 1 failed.\""
   ]
  }
 ],
 "metadata": {
  "kernelspec": {
   "display_name": "Python 3 (ipykernel)",
   "language": "python",
   "name": "python3"
  },
  "language_info": {
   "codemirror_mode": {
    "name": "ipython",
    "version": 3
   },
   "file_extension": ".py",
   "mimetype": "text/x-python",
   "name": "python",
   "nbconvert_exporter": "python",
   "pygments_lexer": "ipython3",
   "version": "3.9.21"
  }
 },
 "nbformat": 4,
 "nbformat_minor": 5
}
