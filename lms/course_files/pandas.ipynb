{
 "cells": [
  {
   "cell_type": "code",
   "execution_count": null,
   "id": "d90f0135-1b5e-448c-a503-16ed46fd82ef",
   "metadata": {},
   "outputs": [],
   "source": [
    "!pip install pandas\n",
    "!pip install numpy"
   ]
  },
  {
   "cell_type": "markdown",
   "id": "4de8b639-bc89-462c-ab76-b9b593ddd472",
   "metadata": {},
   "source": [
    "# Алгоритмы Pandas"
   ]
  },
  {
   "cell_type": "markdown",
   "id": "095f1c66-fec2-4f9e-a487-5a1e75e4b505",
   "metadata": {},
   "source": [
    "## Загрузка и фильтрация данных\n",
    "Напишите функцию, которая принимает на вход DataFrame и пороговое значение. Функция должна возвращать DataFrame, содержащий только те строки, где в столбце \"sales\" значение больше переданного порога."
   ]
  },
  {
   "cell_type": "code",
   "execution_count": 1,
   "id": "7a5adcf3",
   "metadata": {},
   "outputs": [],
   "source": [
    "import pandas as pd\n",
    "\n",
    "def filter_sales(df, threshold):\n",
    "    #HIDDEN\n",
    "    result = df[df[\"sales\"] > threshold]\n",
    "    return result\n",
    "    #HIDDEN\n",
    "    pass"
   ]
  },
  {
   "cell_type": "code",
   "execution_count": null,
   "id": "9248dc92",
   "metadata": {},
   "outputs": [],
   "source": [
    "data = {\"item\": [\"A\", \"B\", \"C\", \"D\"], \"sales\": [100, 50, 200, 150]}\n",
    "df = pd.DataFrame(data)\n",
    "res = filter_sales(df, 100)\n",
    "assert isinstance(res, pd.DataFrame), \"Функция должна возвращать DataFrame\"\n",
    "assert set(res[\"item\"]) == {\"C\", \"D\"}, f\"Ожидались строки с товарами C и D, получили {set(res['item'])}\"\n",
    "\n",
    "#HIDDEN\n",
    "res2 = filter_sales(df, 0)\n",
    "assert len(res2) == 4, f\"Ожидались все 4 строки, получили {len(res2)}\"\n",
    "res3 = filter_sales(df, 250)\n",
    "assert res3.empty, f\"Ожидался пустой DataFrame, но получили {len(res3)} строк\"\n",
    "print(\"All tests passed!\")\n",
    "#HIDDEN"
   ]
  },
  {
   "cell_type": "code",
   "execution_count": null,
   "id": "16b3a67b",
   "metadata": {},
   "outputs": [],
   "source": [
    "# Ограничение по времени на выполнение всех тестов (секунд)\n",
    "timeout = 10\n"
   ]
  },
  {
   "cell_type": "markdown",
   "id": "4f16c07b-f451-46a8-9d33-4e5cfc82b7f0",
   "metadata": {},
   "source": [
    "## Группировка и агрегация по категориям\n",
    "Напишите функцию, которая принимает DataFrame и название столбца категории (category_col) и числового столбца (value_col). Функция должна возвращать Series, в котором индексами будут уникальные категории, а значениями — среднее значение в value_col для каждой категории."
   ]
  },
  {
   "cell_type": "code",
   "execution_count": 21,
   "id": "1f20d22c-4983-4674-9127-58d5d6f59c96",
   "metadata": {},
   "outputs": [],
   "source": [
    "import pandas as pd\n",
    "\n",
    "def mean_by_category(df, category_col, value_col):\n",
    "    #HIDDEN\n",
    "    result = df.groupby(category_col)[value_col].mean()\n",
    "    return result\n",
    "    #HIDDEN\n",
    "    pass"
   ]
  },
  {
   "cell_type": "code",
   "execution_count": null,
   "id": "a2acea16-511d-4fce-8dbc-b9363c7199d6",
   "metadata": {},
   "outputs": [],
   "source": [
    "df = pd.DataFrame({\n",
    "    \"category\": [\"food\", \"food\", \"tech\", \"tech\", \"clothing\"],\n",
    "    \"price\": [10, 20, 100, 200, 50]\n",
    "})\n",
    "\n",
    "res = mean_by_category(df, \"category\", \"price\")\n",
    "assert isinstance(res, pd.Series), \"Функция должна возвращать Series\"\n",
    "assert res[\"food\"] == 15, f\"Ожидалось среднее 15 для 'food', получили {res['food']}\"\n",
    "assert res[\"clothing\"] == 50, f\"Ожидалось 50 для 'clothing', получили {res['clothing']}\"\n",
    "\n",
    "#HIDDEN\n",
    "df2 = pd.DataFrame({\n",
    "    \"category\": [\"A\", \"B\", \"A\", \"B\", \"C\"],\n",
    "    \"value\": [1, 2, 3, 4, 5]\n",
    "})\n",
    "res2 = mean_by_category(df2, \"category\", \"value\")\n",
    "expected = {\"A\": 2.0, \"B\": 3.0, \"C\": 5.0}\n",
    "for cat, val in expected.items():\n",
    "    assert res2[cat] == val, f\"Для категории {cat} ожидалось {val}, получили {res2[cat]}\"\n",
    "print(\"All tests passed!\")\n",
    "#HIDDEN"
   ]
  },
  {
   "cell_type": "code",
   "execution_count": null,
   "id": "ed9124cd-596c-48f2-b819-28884501a34c",
   "metadata": {},
   "outputs": [],
   "source": [
    "# Ограничение по времени на выполнение всех тестов (секунд)\n",
    "timeout = 10\n",
    "\n",
    "# Ограничение по памяти для всех тестов (KB)\n",
    "memory_max = 20"
   ]
  },
  {
   "cell_type": "markdown",
   "id": "462fcdae-c31a-4218-8c81-74bcfcea2427",
   "metadata": {},
   "source": [
    "## Объединение двух DataFrame по ключу\n",
    "Напишите функцию, которая принимает два DataFrame — df1 и df2 — и имя столбца-ключа key_col. Функция должна выполнить левое объединение (left join) df1 и df2 по указанному ключу и вернуть получившийся DataFrame."
   ]
  },
  {
   "cell_type": "code",
   "execution_count": null,
   "id": "af021378-d058-4d3e-9019-733693089497",
   "metadata": {},
   "outputs": [],
   "source": [
    "import pandas as pd\n",
    "\n",
    "def left_join_dfs(df1, df2, key_col):\n",
    "    #HIDDEN\n",
    "    result = pd.merge(df1, df2, how=\"left\", on=key_col)\n",
    "    return result\n",
    "    #HIDDEN\n",
    "    pass"
   ]
  },
  {
   "cell_type": "code",
   "execution_count": null,
   "id": "6352d1ea-3771-438a-83b7-ac71b584c2f8",
   "metadata": {},
   "outputs": [],
   "source": [
    "df1 = pd.DataFrame({\n",
    "    \"id\": [1, 2, 3],\n",
    "    \"name\": [\"Alice\", \"Bob\", \"Charlie\"]\n",
    "})\n",
    "df2 = pd.DataFrame({\n",
    "    \"id\": [2, 3, 4],\n",
    "    \"age\": [30, 25, 40]\n",
    "})\n",
    "\n",
    "res = left_join_dfs(df1, df2, \"id\")\n",
    "assert \"age\" in res.columns, \"После объединения должен появиться столбец 'age'\"\n",
    "assert res.loc[res[\"id\"] == 1, \"age\"].isnull().all(), \"Для id=1 не должно быть совпадения, ожидается NaN\"\n",
    "assert res.loc[res[\"id\"] == 2, \"age\"].iloc[0] == 30, \"Для id=2 возраст должен быть 30\"\n",
    "\n",
    "#HIDDEN\n",
    "df3 = pd.DataFrame({\"key\": [1,2], \"val1\": [100,200]})\n",
    "df4 = pd.DataFrame({\"key\": [2,3], \"val2\": [300,400]})\n",
    "res2 = left_join_dfs(df3, df4, \"key\")\n",
    "assert list(res2[\"val2\"].isnull()) == [True, False], f\"Ожидалось [True, False], получили {list(res2['val2'].isnull())}\"\n",
    "print(\"All tests passed!\")\n",
    "#HIDDEN"
   ]
  },
  {
   "cell_type": "markdown",
   "id": "78c6973d-4f63-475d-b3b9-b5e3f86d9abb",
   "metadata": {},
   "source": [
    "## Выбор данных за последний месяц\n",
    "Напишите функцию, которая принимает DataFrame с датой в столбце \"date\" (формат YYYY-MM-DD) и возвращает новый DataFrame, содержащий только те строки, где дата попадает в последний календарный месяц относительно текущей даты (текущая дата — 2025-06-04). Например, если сегодня 4 июня 2025, то «последний месяц» — это период с 2025-05-01 по 2025-05-31 включительно."
   ]
  },
  {
   "cell_type": "code",
   "execution_count": null,
   "id": "832ddaab-7703-4a19-b9de-7a738c89e77d",
   "metadata": {},
   "outputs": [],
   "source": [
    "import pandas as pd\n",
    "\n",
    "def filter_last_month(df):\n",
    "    #HIDDEN\n",
    "    df_copy = df.copy()\n",
    "    df_copy[\"date\"] = pd.to_datetime(df_copy[\"date\"])\n",
    "    start = pd.Timestamp(year=2025, month=5, day=1)\n",
    "    end = pd.Timestamp(year=2025, month=5, day=31)\n",
    "    result = df_copy[(df_copy[\"date\"] >= start) & (df_copy[\"date\"] <= end)]\n",
    "    return result\n",
    "    #HIDDEN\n",
    "    pass"
   ]
  },
  {
   "cell_type": "code",
   "execution_count": null,
   "id": "1f4701d5-6a02-4455-9d7e-c11e1c2e993a",
   "metadata": {},
   "outputs": [],
   "source": [
    "data = {\n",
    "    \"date\": [\"2025-04-30\", \"2025-05-01\", \"2025-05-15\", \"2025-05-31\", \"2025-06-01\"],\n",
    "    \"value\": [10, 20, 30, 40, 50]\n",
    "}\n",
    "df = pd.DataFrame(data)\n",
    "res = filter_last_month(df)\n",
    "assert set(res[\"value\"]) == {20, 30, 40}, f\"Ожидались значения [20, 30, 40], получили {list(res['value'])}\"\n",
    "\n",
    "#HIDDEN\n",
    "# Дополнительные тесты с разными датами\n",
    "data2 = {\n",
    "    \"date\": [\"2025-05-01\", \"2025-05-31\", \"2025-05-20\", \"2025-04-15\"],\n",
    "    \"num\": [1, 2, 3, 4]\n",
    "}\n",
    "df2 = pd.DataFrame(data2)\n",
    "res2 = filter_last_month(df2)\n",
    "assert set(res2[\"num\"]) == {1, 2, 3}, f\"Ожидались 1,2,3; получили {set(res2['num'])}\"\n",
    "print(\"All tests passed!\")\n",
    "#HIDDEN"
   ]
  },
  {
   "cell_type": "code",
   "execution_count": null,
   "id": "5dced6cd-6348-4b08-811d-ee6a6aef8532",
   "metadata": {},
   "outputs": [],
   "source": [
    "# Ограничение по времени на выполнение всех тестов (секунд)\n",
    "timeout = 10\n",
    "\n",
    "# Ограничение по памяти для всех тестов (KB)\n",
    "memory_max = 20"
   ]
  },
  {
   "cell_type": "markdown",
   "id": "fe81acee-7036-4e6e-adda-99c5b55ed2e3",
   "metadata": {},
   "source": [
    "## Заполнение пропущенных значений медианой\n",
    "Напишите функцию, которая принимает DataFrame и имя числового столбца (col_name). Функция должна возвращать копию DataFrame, где во всех ячейках пропусков (NaN) в указанном столбце заполнены значением медианы этого столбца."
   ]
  },
  {
   "cell_type": "code",
   "execution_count": null,
   "id": "6f439e03-3c2e-44ef-a2e8-a6d0c7abc31e",
   "metadata": {},
   "outputs": [],
   "source": [
    "import pandas as pd\n",
    "\n",
    "def fill_na_with_median(df, col_name):\n",
    "    #HIDDEN\n",
    "    df_copy = df.copy()\n",
    "    median_val = df_copy[col_name].median()\n",
    "    df_copy[col_name] = df_copy[col_name].fillna(median_val)\n",
    "    return df_copy\n",
    "    #HIDDEN\n",
    "    pass"
   ]
  },
  {
   "cell_type": "code",
   "execution_count": null,
   "id": "9c9b1051-459d-4525-993f-5ce35541e61c",
   "metadata": {},
   "outputs": [],
   "source": [
    "import numpy as np\n",
    "\n",
    "df = pd.DataFrame({\n",
    "    \"A\": [1, np.nan, 3, np.nan, 5],\n",
    "    \"B\": [10, 20, 30, 40, 50]\n",
    "})\n",
    "res = fill_na_with_median(df, \"A\")\n",
    "assert res[\"A\"].isnull().sum() == 0, \"В результате не должно остаться пропусков в столбце A\"\n",
    "assert res.loc[1, \"A\"] == 3, f\"Медиана столбца A равна 3, ожидается 3, получили {res.loc[1,'A']}\"\n",
    "\n",
    "#HIDDEN\n",
    "# Дополнительные тесты\n",
    "df2 = pd.DataFrame({\"X\": [5, 7, 9, np.nan]})\n",
    "res2 = fill_na_with_median(df2, \"X\")\n",
    "assert res2.loc[3, \"X\"] == 7, f\"Медиана [5,7,9] = 7, получили {res2.loc[3,'X']}\"\n",
    "print(\"All tests passed!\")\n",
    "#HIDDEN"
   ]
  },
  {
   "cell_type": "code",
   "execution_count": null,
   "id": "84fbe663-9e85-4bda-afb3-d83262876227",
   "metadata": {},
   "outputs": [],
   "source": [
    "# Ограничение по времени на выполнение всех тестов (секунд)\n",
    "timeout = 10\n",
    "\n",
    "# Ограничение по памяти для всех тестов (KB)\n",
    "memory_max = 20"
   ]
  },
  {
   "cell_type": "markdown",
   "id": "bb8d6f89-7366-4c48-995f-80877be0b8b5",
   "metadata": {},
   "source": [
    "## Сложная фильтрация и сортировка\n",
    "Напишите функцию, которая принимает DataFrame с информацией о продажах: столбцы \"store\", \"product\", \"units_sold\". Функция должна вернуть DataFrame, содержащий топ-2 продуктов по суммарным продажам (units_sold) для каждого магазина (store), отсортированный сначала по store, а внутри каждого store — по убыванию общего количества проданных единиц."
   ]
  },
  {
   "cell_type": "code",
   "execution_count": null,
   "id": "f337dce0-0c1c-4b34-b8f2-0ac055e5ccb2",
   "metadata": {},
   "outputs": [],
   "source": [
    "import pandas as pd\n",
    "\n",
    "def top2_products_per_store(df):\n",
    "    #HIDDEN\n",
    "    agg = df.groupby([\"store\", \"product\"])[\"units_sold\"].sum().reset_index()\n",
    "    agg_sorted = agg.sort_values([\"store\", \"units_sold\"], ascending=[True, False])\n",
    "    result = agg_sorted.groupby(\"store\").head(2).reset_index(drop=True)\n",
    "    return result\n",
    "    #HIDDEN\n",
    "    pass"
   ]
  },
  {
   "cell_type": "code",
   "execution_count": null,
   "id": "9e71089f-faf1-4bd9-8a5e-be75f3fbddb5",
   "metadata": {},
   "outputs": [],
   "source": [
    "df = pd.DataFrame({\n",
    "    \"store\": [\"A\", \"A\", \"A\", \"B\", \"B\", \"B\", \"C\"],\n",
    "    \"product\": [\"x\", \"y\", \"x\", \"x\", \"y\", \"z\", \"x\"],\n",
    "    \"units_sold\": [10, 5, 20, 7, 15, 3, 8]\n",
    "})\n",
    "res = top2_products_per_store(df)\n",
    "\n",
    "# Проверяем, что в магазине A первые два продукта — x (30) и y (5)\n",
    "assert list(res[res[\"store\"]==\"A\"][\"product\"]) == [\"x\", \"y\"], f\"Для A ожидается ['x','y'], получили {list(res[res['store']=='A']['product'])}\"\n",
    "# Для магазина B: y (15), x (7)\n",
    "assert list(res[res[\"store\"]==\"B\"][\"product\"]) == [\"y\", \"x\"], f\"Для B ожидается ['y','x'], получили {list(res[res['store']=='B']['product'])}\"\n",
    "# Для C только один продукт\n",
    "assert list(res[res[\"store\"]==\"C\"][\"product\"]) == [\"x\"], f\"Для C ожидается ['x'], получили {list(res[res['store']=='C']['product'])}\"\n",
    "\n",
    "#HIDDEN\n",
    "df2 = pd.DataFrame({\n",
    "    \"store\": [\"X\",\"X\",\"X\",\"X\"],\n",
    "    \"product\": [\"a\",\"b\",\"c\",\"b\"],\n",
    "    \"units_sold\": [1,2,3,4]\n",
    "})\n",
    "# Суммарно: a=1, b=6, c=3 => топ2: b(6), c(3)\n",
    "res2 = top2_products_per_store(df2)\n",
    "assert list(res2[\"product\"]) == [\"b\",\"c\"], f\"Ожидалось ['b','c'], получили {list(res2['product'])}\"\n",
    "print(\"All tests passed!\")\n",
    "#HIDDEN"
   ]
  },
  {
   "cell_type": "code",
   "execution_count": null,
   "id": "29f953e3-5b78-4feb-a5b1-b867b7648572",
   "metadata": {},
   "outputs": [],
   "source": [
    "# Ограничение по времени на выполнение всех тестов (секунд)\n",
    "timeout = 10\n",
    "\n",
    "# Ограничение по памяти для всех тестов (KB)\n",
    "memory_max = 20"
   ]
  }
 ],
 "metadata": {
  "kernelspec": {
   "display_name": "Python 3 (ipykernel)",
   "language": "python",
   "name": "python3"
  },
  "language_info": {
   "codemirror_mode": {
    "name": "ipython",
    "version": 3
   },
   "file_extension": ".py",
   "mimetype": "text/x-python",
   "name": "python",
   "nbconvert_exporter": "python",
   "pygments_lexer": "ipython3",
   "version": "3.12.3"
  }
 },
 "nbformat": 4,
 "nbformat_minor": 5
}
