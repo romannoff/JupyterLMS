{
 "cells": [
  {
   "cell_type": "markdown",
   "id": "4de8b639-bc89-462c-ab76-b9b593ddd472",
   "metadata": {},
   "source": [
    "# Алгоритмы Python"
   ]
  },
  {
   "cell_type": "markdown",
   "id": "095f1c66-fec2-4f9e-a487-5a1e75e4b505",
   "metadata": {},
   "source": [
    "## Функция суммы\n",
    "Напишите функцию, которая в качестве параметров принимает два числа и возвращает их сумму."
   ]
  },
  {
   "cell_type": "code",
   "execution_count": 1,
   "id": "7a5adcf3",
   "metadata": {},
   "outputs": [],
   "source": [
    "def my_fun(a, b):\n",
    "    #HIDDEN\n",
    "    # Код, который ученик не видит\n",
    "    return a + b\n",
    "    #HIDDEN\n",
    "    pass"
   ]
  },
  {
   "cell_type": "code",
   "execution_count": null,
   "id": "9248dc92",
   "metadata": {},
   "outputs": [],
   "source": [
    "#HIDDEN\n",
    "assert my_fun(1, 2) == 3, f\"Test 1 failed. Expected: 3, but got {my_fun(1, 2)}\"\n",
    "assert my_fun(-1, 1) == 0, f\"Test 2 failed. Expected: 0, but got {my_fun(-1, 1)}\"\n",
    "assert my_fun(0, 0) == 0, f\"Test 3 failed. Expected: 0, but got {my_fun(0, 0)}\"\n",
    "print(\"All tests passed!\")"
   ]
  },
  {
   "cell_type": "code",
   "execution_count": null,
   "id": "16b3a67b",
   "metadata": {},
   "outputs": [],
   "source": [
    "# Ограничение по времени на выполнение всех тестов (секунд)\n",
    "timeout = 10\n",
    "\n",
    "# Ограничение по памяти для всех тестов (KB)\n",
    "memory_max = 100\n"
   ]
  },
  {
   "cell_type": "markdown",
   "id": "4f16c07b-f451-46a8-9d33-4e5cfc82b7f0",
   "metadata": {},
   "source": [
    "## Сортировка списка\n",
    "Напишите функцию, которая принимает в качестве параметров список и возвращает его отсортированным по возрастанию"
   ]
  },
  {
   "cell_type": "code",
   "execution_count": 21,
   "id": "1f20d22c-4983-4674-9127-58d5d6f59c96",
   "metadata": {},
   "outputs": [],
   "source": [
    "#HIDDEN\n",
    "import random\n",
    "#HIDDEN\n",
    "\n",
    "def quicksort(nums):\n",
    "    #HIDDEN\n",
    "   if len(nums) <= 1:\n",
    "       return nums\n",
    "   else:\n",
    "       q = random.choice(nums)\n",
    "       s_nums = []\n",
    "       m_nums = []\n",
    "       e_nums = []\n",
    "       for n in nums:\n",
    "           if n < q:\n",
    "               s_nums.append(n)\n",
    "           elif n > q:\n",
    "               m_nums.append(n)\n",
    "           else:\n",
    "               e_nums.append(n)\n",
    "       return quicksort(s_nums) + e_nums + quicksort(m_nums)\n",
    "    #HIDDEN"
   ]
  },
  {
   "cell_type": "code",
   "execution_count": null,
   "id": "a2acea16-511d-4fce-8dbc-b9363c7199d6",
   "metadata": {},
   "outputs": [],
   "source": [
    "data_1 = [1, 7, 4, 1, 10, 9, -2]\n",
    "assert quicksort(data_1) == [-2, 1, 1, 4, 7, 9, 10], f\"Test 1 failed. Got {quicksort(data_1)}\"\n",
    "data_2 = list(range(10, 0, -1))\n",
    "assert quicksort(data_2) == list(range(1, 11)), f\"Test 2 failed. Got {quicksort(data_2)}\"\n",
    "\n",
    "#HIDDEN\n",
    "data_3 = list(range(1000000, 0, -1))\n",
    "assert quicksort(data_3) == list(range(1, 1000001)), f\"Test 3 failed.\"\n",
    "print(\"All tests passed!\")"
   ]
  },
  {
   "cell_type": "code",
   "execution_count": null,
   "id": "ed9124cd-596c-48f2-b819-28884501a34c",
   "metadata": {},
   "outputs": [],
   "source": [
    "# Ограничение по времени на выполнение всех тестов (секунд)\n",
    "timeout = 10\n",
    "\n",
    "# Ограничение по памяти для всех тестов (KB)\n",
    "memory_max = 100"
   ]
  },
  {
   "cell_type": "markdown",
   "id": "09d93149",
   "metadata": {},
   "source": [
    "## Поиск максимального элемента\n",
    "Напишите функцию, которая принимает в качестве параметров список и возвращает его максимальное значение"
   ]
  },
  {
   "cell_type": "code",
   "execution_count": null,
   "id": "63c9411f",
   "metadata": {},
   "outputs": [],
   "source": [
    "def find_max(arr):\n",
    "    #HIDDEN\n",
    "    return max(arr)\n",
    "    #HIDDEN\n",
    "    pass"
   ]
  },
  {
   "cell_type": "code",
   "execution_count": null,
   "id": "3550ead7",
   "metadata": {},
   "outputs": [],
   "source": [
    "#HIDDEN\n",
    "assert find_max([3, 1, 4, 2]) == 4, \"Test 1 failed\"\n",
    "assert find_max([-1, -5, -3]) == -1, \"Test 2 failed\"\n",
    "assert find_max([0]) == 0, \"Test 3 failed\"\n",
    "print(\"All tests passed!\")"
   ]
  },
  {
   "cell_type": "code",
   "execution_count": null,
   "id": "a4dedc6c",
   "metadata": {},
   "outputs": [],
   "source": [
    "# Ограничение по времени на выполнение всех тестов (секунд)\n",
    "timeout = 10\n",
    "\n",
    "# Ограничение по памяти для всех тестов (KB)\n",
    "memory_max = 100"
   ]
  },
  {
   "cell_type": "markdown",
   "id": "36c25555",
   "metadata": {},
   "source": [
    "## Вычисление факториала\n",
    "Напишите функцию, которая принимает в качестве параметров целое число и возвращает его факториал.\n",
    "\n",
    "Для справки факториал числа вычисляется по формуле:\n",
    " $$ n!= \\prod_{i=1}^n{i} =1*2*...*n $$"
   ]
  },
  {
   "cell_type": "code",
   "execution_count": null,
   "id": "719aaab2",
   "metadata": {},
   "outputs": [],
   "source": [
    "def factorial(n):\n",
    "    #HIDDEN\n",
    "    result = 1\n",
    "    for i in range(1, n+1):\n",
    "        result *= i\n",
    "    return result\n",
    "    #HIDDEN\n",
    "    pass"
   ]
  },
  {
   "cell_type": "code",
   "execution_count": null,
   "id": "b7694c27",
   "metadata": {},
   "outputs": [],
   "source": [
    "\n",
    "#HIDDEN\n",
    "assert factorial(0) == 1, \"Test 1 failed\"\n",
    "assert factorial(5) == 120, \"Test 2 failed\"\n",
    "assert factorial(7) == 5040, \"Test 3 failed\"\n",
    "print(\"All tests passed!\")"
   ]
  },
  {
   "cell_type": "code",
   "execution_count": null,
   "id": "a80c01a8",
   "metadata": {},
   "outputs": [],
   "source": [
    "# Ограничение по времени на выполнение всех тестов (секунд)\n",
    "timeout = 20\n",
    "\n",
    "# Ограничение по памяти для всех тестов (KB)\n",
    "memory_max = 100"
   ]
  },
  {
   "cell_type": "markdown",
   "id": "344a8c6a",
   "metadata": {},
   "source": [
    "## Проверка простого числа\n",
    "Напишите функцию, которая проверяет целое натуральное число на простоту"
   ]
  },
  {
   "cell_type": "code",
   "execution_count": null,
   "id": "5aa5d032",
   "metadata": {},
   "outputs": [],
   "source": [
    "def is_prime(n):\n",
    "    #HIDDEN\n",
    "    if n < 2:\n",
    "        return False\n",
    "    for i in range(2, int(n**0.5)+1):\n",
    "        if n % i == 0:\n",
    "            return False\n",
    "    return True\n",
    "    #HIDDEN\n",
    "    pass"
   ]
  },
  {
   "cell_type": "code",
   "execution_count": null,
   "id": "1af41de0",
   "metadata": {},
   "outputs": [],
   "source": [
    "#HIDDEN\n",
    "assert is_prime(2) == True, \"Test 1 failed\"\n",
    "assert is_prime(10) == False, \"Test 2 failed\"\n",
    "assert is_prime(17) == True, \"Test 3 failed\"\n",
    "print(\"All tests passed!\")"
   ]
  },
  {
   "cell_type": "code",
   "execution_count": null,
   "id": "cd437d19",
   "metadata": {},
   "outputs": [],
   "source": [
    "# Ограничение по времени на выполнение всех тестов (секунд)\n",
    "timeout = 20\n",
    "\n",
    "# Ограничение по памяти для всех тестов (KB)\n",
    "memory_max = 100"
   ]
  }
 ],
 "metadata": {
  "kernelspec": {
   "display_name": "Python 3 (ipykernel)",
   "language": "python",
   "name": "python3"
  },
  "language_info": {
   "codemirror_mode": {
    "name": "ipython",
    "version": 3
   },
   "file_extension": ".py",
   "mimetype": "text/x-python",
   "name": "python",
   "nbconvert_exporter": "python",
   "pygments_lexer": "ipython3",
   "version": "3.9.21"
  }
 },
 "nbformat": 4,
 "nbformat_minor": 5
}
